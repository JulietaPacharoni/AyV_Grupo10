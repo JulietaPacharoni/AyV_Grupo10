{
 "cells": [
  {
   "cell_type": "markdown",
   "metadata": {
    "colab_type": "text",
    "id": "mKqgKTs3FZCI"
   },
   "source": [
    "<center>\n",
    "<h4>Universidad Nacional de Córdoba - Facultad de Matemática, Astronomía, Física y Computación</h4>\n",
    "<h3>Diplomatura en Ciencia de Datos, Aprendizaje Automático y sus Aplicaciones</h3>\n",
    "</center>"
   ]
  },
  {
   "cell_type": "markdown",
   "metadata": {
    "colab_type": "text",
    "id": "b956SHDlFZCJ"
   },
   "source": [
    "<h1> Práctico </h1>\n",
    "<h3> Análisis y Visualización de Datos - 2020 </h3>\n",
    "\n",
    "Durante este práctico vamos a trabajar sobre el dataset [Human Freedom Index 2018](https://www.cato.org/human-freedom-index-new) de el instituto Cato. Este índice mide en detalle lo que entendemos como libertad, utilizando 79 indicadores de libertad personal y económica en distintos aspectos, hasta obtener un hermoso numerito del 1 al 10.\n",
    "\n",
    "Las variables más importantes sobre las que trabaja el dataset son:\n",
    "\n",
    "* Rule of Law\n",
    "* Security and Safety\n",
    "* Movement\n",
    "* Religion\n",
    "* Association, Assembly, and Civil Society\n",
    "* Expression and Information\n",
    "* Identity and Relationships\n",
    "* Size of Government\n",
    "* Legal System and Property Rights\n",
    "* Access to Sound Money\n",
    "* Freedom to Trade Internationally\n",
    "* Regulation of Credit, Labor, and Business\n",
    "\n",
    "Nosotros centrarermos nuestro análisis en variables relacionadas a *Identity and Relationships* en paises de Latinoamérica, y los compararemos con las estadísticas globales. La pregunta a responder es simple: **¿Qué niveles de libertad se viven en Latinoamérica, especificamente en cuanto libertades de indentidad?**. Sin embargo, para hacer un análisis de los datos tenemos que platear también estas sub preguntas:\n",
    "\n",
    "1. ¿Qué significa tener un puntaje de 4.5? Hay que poner los puntajes de la región en contexto con los datos del resto del mundo.\n",
    "2. ¿Cuál es la tendencia a lo largo de los años? ¿Estamos mejorando, empeorando?\n",
    "3. En este estudio, la libertad se mide con un estimadores principal: *hf_score* que hace referencia a Human Freedom, que a su vez está calculado en base a dos otros estimadores *ef_score*, para Economic Freedom y *pf_score*, para Personal Freedom. Estos tres estimadores, ¿se relacionan de la misma manera con la libertad de identidad?\n",
    "\n",
    "Inicialmente, en toda exploración de datos tenemos muy poca información a priori sobre el significado de los datos y tenemos que empezar por comprenderlos. Les proponemos los siguientes ejercicios como guía para comenzar esta exploración."
   ]
  },
  {
   "cell_type": "code",
   "execution_count": 1,
   "metadata": {
    "colab": {
     "base_uri": "https://localhost:8080/",
     "height": 73
    },
    "colab_type": "code",
    "id": "xZoxu5phFZCK",
    "outputId": "316448bd-61a0-4fc4-e2d0-7abfce040abd"
   },
   "outputs": [],
   "source": [
    "import matplotlib.pyplot as plt\n",
    "import numpy\n",
    "import pandas\n",
    "import seaborn"
   ]
  },
  {
   "cell_type": "code",
   "execution_count": 2,
   "metadata": {
    "colab": {
     "base_uri": "https://localhost:8080/",
     "height": 35
    },
    "colab_type": "code",
    "id": "-N3A9N2LFZCP",
    "outputId": "cfada158-aea9-4ed2-cd1a-d24db74f14f4"
   },
   "outputs": [
    {
     "data": {
      "text/plain": [
       "'0.10.1'"
      ]
     },
     "execution_count": 2,
     "metadata": {},
     "output_type": "execute_result"
    }
   ],
   "source": [
    "seaborn.__version__"
   ]
  },
  {
   "cell_type": "markdown",
   "metadata": {
    "colab_type": "text",
    "id": "Gg_MqLmTTi-h"
   },
   "source": [
    "Si un archivo está disponible en la web, podemos leerlo con pandas utilizando su URL sin necesidad de descargarlo."
   ]
  },
  {
   "cell_type": "code",
   "execution_count": 3,
   "metadata": {
    "colab": {
     "base_uri": "https://localhost:8080/",
     "height": 35
    },
    "colab_type": "code",
    "id": "-QOtVVUOFZCU",
    "outputId": "9ab2645c-ce83-4ffc-c61b-2477a50f068c"
   },
   "outputs": [
    {
     "data": {
      "text/plain": [
       "(1620, 120)"
      ]
     },
     "execution_count": 3,
     "metadata": {},
     "output_type": "execute_result"
    }
   ],
   "source": [
    "dataset = pandas.read_csv(\n",
    "    'https://object.cato.org/sites/cato.org/files/human-freedom-index-files/human-freedom-index-2019.csv')\n",
    "dataset.shape"
   ]
  },
  {
   "cell_type": "code",
   "execution_count": 4,
   "metadata": {
    "colab": {
     "base_uri": "https://localhost:8080/",
     "height": 160
    },
    "colab_type": "code",
    "id": "S_n8Fh3EFZCY",
    "outputId": "9335dbb1-b639-42e7-8183-a3974b1e9fc6"
   },
   "outputs": [
    {
     "data": {
      "text/plain": [
       "Index(['year', 'ISO_code', 'countries', 'region', 'hf_score', 'hf_rank',\n",
       "       'hf_quartile', 'pf_rol_procedural', 'pf_rol_civil', 'pf_rol_criminal',\n",
       "       ...\n",
       "       'ef_regulation_business_adm', 'ef_regulation_business_bureaucracy',\n",
       "       'ef_regulation_business_start', 'ef_regulation_business_bribes',\n",
       "       'ef_regulation_business_licensing', 'ef_regulation_business_compliance',\n",
       "       'ef_regulation_business', 'ef_regulation', 'ef_score', 'ef_rank'],\n",
       "      dtype='object', length=120)"
      ]
     },
     "execution_count": 4,
     "metadata": {},
     "output_type": "execute_result"
    }
   ],
   "source": [
    "dataset.columns  # Way too many columns!"
   ]
  },
  {
   "cell_type": "markdown",
   "metadata": {
    "colab_type": "text",
    "id": "05keUcCbFZCc"
   },
   "source": [
    "Por suerte las columnas tienen un prefijo que nos ayuda a identificar a qué sección pertenecen. Nos quedamos sólo con las que comienzan con *pf_indentity*, junto con otras columnas más generales"
   ]
  },
  {
   "cell_type": "code",
   "execution_count": 5,
   "metadata": {
    "colab": {},
    "colab_type": "code",
    "id": "EQCW-sJSFZCd"
   },
   "outputs": [],
   "source": [
    "score_cols = [col for col in dataset.columns if 'pf_identity' in col] + [\n",
    "    'pf_score', # Personal Freedom (score)\n",
    "    'pf_rank', # Personal Freedom (rank)\n",
    "    'ef_score', # Economic Freedom (score)\n",
    "    'ef_rank', # Economic Freedom (rank)\n",
    "    'hf_score', # Human Freedom (score)\n",
    "    'hf_rank', # Human Freedom (rank)\n",
    "]\n",
    "\n",
    "important_cols = ['year', 'ISO_code', 'countries', 'region'] + score_cols"
   ]
  },
  {
   "cell_type": "code",
   "execution_count": 6,
   "metadata": {
    "colab": {
     "base_uri": "https://localhost:8080/",
     "height": 677
    },
    "colab_type": "code",
    "id": "ZXYn1yL5FZCh",
    "outputId": "9ff73231-1c11-407d-f47e-1fea3215e48b"
   },
   "outputs": [
    {
     "data": {
      "text/html": [
       "<div>\n",
       "<style scoped>\n",
       "    .dataframe tbody tr th:only-of-type {\n",
       "        vertical-align: middle;\n",
       "    }\n",
       "\n",
       "    .dataframe tbody tr th {\n",
       "        vertical-align: top;\n",
       "    }\n",
       "\n",
       "    .dataframe thead th {\n",
       "        text-align: right;\n",
       "    }\n",
       "</style>\n",
       "<table border=\"1\" class=\"dataframe\">\n",
       "  <thead>\n",
       "    <tr style=\"text-align: right;\">\n",
       "      <th></th>\n",
       "      <th>year</th>\n",
       "      <th>ISO_code</th>\n",
       "      <th>countries</th>\n",
       "      <th>region</th>\n",
       "      <th>pf_identity_legal</th>\n",
       "      <th>pf_identity_sex_male</th>\n",
       "      <th>pf_identity_sex_female</th>\n",
       "      <th>pf_identity_sex</th>\n",
       "      <th>pf_identity_divorce</th>\n",
       "      <th>pf_identity</th>\n",
       "      <th>pf_score</th>\n",
       "      <th>pf_rank</th>\n",
       "      <th>ef_score</th>\n",
       "      <th>ef_rank</th>\n",
       "      <th>hf_score</th>\n",
       "      <th>hf_rank</th>\n",
       "    </tr>\n",
       "  </thead>\n",
       "  <tbody>\n",
       "    <tr>\n",
       "      <th>0</th>\n",
       "      <td>2017</td>\n",
       "      <td>ALB</td>\n",
       "      <td>Albania</td>\n",
       "      <td>Eastern Europe</td>\n",
       "      <td>0</td>\n",
       "      <td>10</td>\n",
       "      <td>10</td>\n",
       "      <td>10</td>\n",
       "      <td>7.5</td>\n",
       "      <td>5.8</td>\n",
       "      <td>8.01</td>\n",
       "      <td>46</td>\n",
       "      <td>7.67</td>\n",
       "      <td>30</td>\n",
       "      <td>7.84</td>\n",
       "      <td>38</td>\n",
       "    </tr>\n",
       "    <tr>\n",
       "      <th>1</th>\n",
       "      <td>2017</td>\n",
       "      <td>DZA</td>\n",
       "      <td>Algeria</td>\n",
       "      <td>Middle East &amp; North Africa</td>\n",
       "      <td>-</td>\n",
       "      <td>0</td>\n",
       "      <td>0</td>\n",
       "      <td>0</td>\n",
       "      <td>0</td>\n",
       "      <td>0</td>\n",
       "      <td>5.2</td>\n",
       "      <td>146</td>\n",
       "      <td>4.77</td>\n",
       "      <td>159</td>\n",
       "      <td>4.99</td>\n",
       "      <td>155</td>\n",
       "    </tr>\n",
       "    <tr>\n",
       "      <th>2</th>\n",
       "      <td>2017</td>\n",
       "      <td>AGO</td>\n",
       "      <td>Angola</td>\n",
       "      <td>Sub-Saharan Africa</td>\n",
       "      <td>10</td>\n",
       "      <td>0</td>\n",
       "      <td>0</td>\n",
       "      <td>0</td>\n",
       "      <td>5</td>\n",
       "      <td>5</td>\n",
       "      <td>5.98</td>\n",
       "      <td>121</td>\n",
       "      <td>4.83</td>\n",
       "      <td>158</td>\n",
       "      <td>5.4</td>\n",
       "      <td>151</td>\n",
       "    </tr>\n",
       "    <tr>\n",
       "      <th>3</th>\n",
       "      <td>2017</td>\n",
       "      <td>ARG</td>\n",
       "      <td>Argentina</td>\n",
       "      <td>Latin America &amp; the Caribbean</td>\n",
       "      <td>10</td>\n",
       "      <td>10</td>\n",
       "      <td>10</td>\n",
       "      <td>10</td>\n",
       "      <td>10</td>\n",
       "      <td>10</td>\n",
       "      <td>8.04</td>\n",
       "      <td>41</td>\n",
       "      <td>5.67</td>\n",
       "      <td>147</td>\n",
       "      <td>6.86</td>\n",
       "      <td>77</td>\n",
       "    </tr>\n",
       "    <tr>\n",
       "      <th>4</th>\n",
       "      <td>2017</td>\n",
       "      <td>ARM</td>\n",
       "      <td>Armenia</td>\n",
       "      <td>Caucasus &amp; Central Asia</td>\n",
       "      <td>7</td>\n",
       "      <td>10</td>\n",
       "      <td>10</td>\n",
       "      <td>10</td>\n",
       "      <td>7.5</td>\n",
       "      <td>8.2</td>\n",
       "      <td>7.15</td>\n",
       "      <td>72</td>\n",
       "      <td>7.7</td>\n",
       "      <td>27</td>\n",
       "      <td>7.42</td>\n",
       "      <td>54</td>\n",
       "    </tr>\n",
       "    <tr>\n",
       "      <th>...</th>\n",
       "      <td>...</td>\n",
       "      <td>...</td>\n",
       "      <td>...</td>\n",
       "      <td>...</td>\n",
       "      <td>...</td>\n",
       "      <td>...</td>\n",
       "      <td>...</td>\n",
       "      <td>...</td>\n",
       "      <td>...</td>\n",
       "      <td>...</td>\n",
       "      <td>...</td>\n",
       "      <td>...</td>\n",
       "      <td>...</td>\n",
       "      <td>...</td>\n",
       "      <td>...</td>\n",
       "      <td>...</td>\n",
       "    </tr>\n",
       "    <tr>\n",
       "      <th>1615</th>\n",
       "      <td>2008</td>\n",
       "      <td>AUS</td>\n",
       "      <td>Australia</td>\n",
       "      <td>Oceania</td>\n",
       "      <td>-</td>\n",
       "      <td>10</td>\n",
       "      <td>10</td>\n",
       "      <td>10</td>\n",
       "      <td>10</td>\n",
       "      <td>10</td>\n",
       "      <td>9.29</td>\n",
       "      <td>7</td>\n",
       "      <td>8.18</td>\n",
       "      <td>6</td>\n",
       "      <td>8.73</td>\n",
       "      <td>4</td>\n",
       "    </tr>\n",
       "    <tr>\n",
       "      <th>1616</th>\n",
       "      <td>2008</td>\n",
       "      <td>DNK</td>\n",
       "      <td>Denmark</td>\n",
       "      <td>Western Europe</td>\n",
       "      <td>-</td>\n",
       "      <td>10</td>\n",
       "      <td>10</td>\n",
       "      <td>10</td>\n",
       "      <td>10</td>\n",
       "      <td>10</td>\n",
       "      <td>9.49</td>\n",
       "      <td>3</td>\n",
       "      <td>7.98</td>\n",
       "      <td>9</td>\n",
       "      <td>8.73</td>\n",
       "      <td>4</td>\n",
       "    </tr>\n",
       "    <tr>\n",
       "      <th>1617</th>\n",
       "      <td>2008</td>\n",
       "      <td>CHE</td>\n",
       "      <td>Switzerland</td>\n",
       "      <td>Western Europe</td>\n",
       "      <td>-</td>\n",
       "      <td>10</td>\n",
       "      <td>10</td>\n",
       "      <td>10</td>\n",
       "      <td>10</td>\n",
       "      <td>10</td>\n",
       "      <td>9.31</td>\n",
       "      <td>6</td>\n",
       "      <td>8.35</td>\n",
       "      <td>4</td>\n",
       "      <td>8.83</td>\n",
       "      <td>3</td>\n",
       "    </tr>\n",
       "    <tr>\n",
       "      <th>1618</th>\n",
       "      <td>2008</td>\n",
       "      <td>NZL</td>\n",
       "      <td>New Zealand</td>\n",
       "      <td>Oceania</td>\n",
       "      <td>-</td>\n",
       "      <td>10</td>\n",
       "      <td>10</td>\n",
       "      <td>10</td>\n",
       "      <td>10</td>\n",
       "      <td>10</td>\n",
       "      <td>9.42</td>\n",
       "      <td>4</td>\n",
       "      <td>8.46</td>\n",
       "      <td>3</td>\n",
       "      <td>8.94</td>\n",
       "      <td>2</td>\n",
       "    </tr>\n",
       "    <tr>\n",
       "      <th>1619</th>\n",
       "      <td>2008</td>\n",
       "      <td>HKG</td>\n",
       "      <td>Hong Kong</td>\n",
       "      <td>East Asia</td>\n",
       "      <td>-</td>\n",
       "      <td>10</td>\n",
       "      <td>10</td>\n",
       "      <td>10</td>\n",
       "      <td>10</td>\n",
       "      <td>10</td>\n",
       "      <td>9.13</td>\n",
       "      <td>12</td>\n",
       "      <td>9.11</td>\n",
       "      <td>1</td>\n",
       "      <td>9.12</td>\n",
       "      <td>1</td>\n",
       "    </tr>\n",
       "  </tbody>\n",
       "</table>\n",
       "<p>1620 rows × 16 columns</p>\n",
       "</div>"
      ],
      "text/plain": [
       "      year ISO_code    countries                         region  \\\n",
       "0     2017      ALB      Albania                 Eastern Europe   \n",
       "1     2017      DZA      Algeria     Middle East & North Africa   \n",
       "2     2017      AGO       Angola             Sub-Saharan Africa   \n",
       "3     2017      ARG    Argentina  Latin America & the Caribbean   \n",
       "4     2017      ARM      Armenia        Caucasus & Central Asia   \n",
       "...    ...      ...          ...                            ...   \n",
       "1615  2008      AUS    Australia                        Oceania   \n",
       "1616  2008      DNK      Denmark                 Western Europe   \n",
       "1617  2008      CHE  Switzerland                 Western Europe   \n",
       "1618  2008      NZL  New Zealand                        Oceania   \n",
       "1619  2008      HKG    Hong Kong                      East Asia   \n",
       "\n",
       "     pf_identity_legal pf_identity_sex_male pf_identity_sex_female  \\\n",
       "0                    0                   10                     10   \n",
       "1                    -                    0                      0   \n",
       "2                   10                    0                      0   \n",
       "3                   10                   10                     10   \n",
       "4                    7                   10                     10   \n",
       "...                ...                  ...                    ...   \n",
       "1615                 -                   10                     10   \n",
       "1616                 -                   10                     10   \n",
       "1617                 -                   10                     10   \n",
       "1618                 -                   10                     10   \n",
       "1619                 -                   10                     10   \n",
       "\n",
       "     pf_identity_sex pf_identity_divorce pf_identity pf_score pf_rank  \\\n",
       "0                 10                 7.5         5.8     8.01      46   \n",
       "1                  0                   0           0      5.2     146   \n",
       "2                  0                   5           5     5.98     121   \n",
       "3                 10                  10          10     8.04      41   \n",
       "4                 10                 7.5         8.2     7.15      72   \n",
       "...              ...                 ...         ...      ...     ...   \n",
       "1615              10                  10          10     9.29       7   \n",
       "1616              10                  10          10     9.49       3   \n",
       "1617              10                  10          10     9.31       6   \n",
       "1618              10                  10          10     9.42       4   \n",
       "1619              10                  10          10     9.13      12   \n",
       "\n",
       "     ef_score ef_rank hf_score hf_rank  \n",
       "0        7.67      30     7.84      38  \n",
       "1        4.77     159     4.99     155  \n",
       "2        4.83     158      5.4     151  \n",
       "3        5.67     147     6.86      77  \n",
       "4         7.7      27     7.42      54  \n",
       "...       ...     ...      ...     ...  \n",
       "1615     8.18       6     8.73       4  \n",
       "1616     7.98       9     8.73       4  \n",
       "1617     8.35       4     8.83       3  \n",
       "1618     8.46       3     8.94       2  \n",
       "1619     9.11       1     9.12       1  \n",
       "\n",
       "[1620 rows x 16 columns]"
      ]
     },
     "execution_count": 6,
     "metadata": {},
     "output_type": "execute_result"
    }
   ],
   "source": [
    "dataset[important_cols]"
   ]
  },
  {
   "cell_type": "markdown",
   "metadata": {
    "colab_type": "text",
    "id": "HPC6X48OVqgN"
   },
   "source": [
    "Si analizamos los tipos, vemos que casi todas las columnas se leen como objetos debido a que los valores nulos están marcados con `-`. Los vamos a eliminar y volveremos a convertir las columnas con puntajes a tipo numérico."
   ]
  },
  {
   "cell_type": "code",
   "execution_count": 7,
   "metadata": {
    "colab": {
     "base_uri": "https://localhost:8080/",
     "height": 231
    },
    "colab_type": "code",
    "id": "An0A40SKVjxW",
    "outputId": "8cbbf6e9-c100-407a-ad50-a07b458e9511"
   },
   "outputs": [
    {
     "data": {
      "text/plain": [
       "year                                  int64\n",
       "ISO_code                             object\n",
       "countries                            object\n",
       "region                               object\n",
       "hf_score                             object\n",
       "                                      ...  \n",
       "ef_regulation_business_compliance    object\n",
       "ef_regulation_business               object\n",
       "ef_regulation                        object\n",
       "ef_score                             object\n",
       "ef_rank                              object\n",
       "Length: 120, dtype: object"
      ]
     },
     "execution_count": 7,
     "metadata": {},
     "output_type": "execute_result"
    }
   ],
   "source": [
    "dataset.dtypes"
   ]
  },
  {
   "cell_type": "code",
   "execution_count": 8,
   "metadata": {
    "colab": {
     "base_uri": "https://localhost:8080/",
     "height": 677
    },
    "colab_type": "code",
    "id": "cNSfBVH2WDVu",
    "outputId": "2bcdcc79-d263-4391-8272-4f4ac3ad04b1"
   },
   "outputs": [
    {
     "data": {
      "text/html": [
       "<div>\n",
       "<style scoped>\n",
       "    .dataframe tbody tr th:only-of-type {\n",
       "        vertical-align: middle;\n",
       "    }\n",
       "\n",
       "    .dataframe tbody tr th {\n",
       "        vertical-align: top;\n",
       "    }\n",
       "\n",
       "    .dataframe thead th {\n",
       "        text-align: right;\n",
       "    }\n",
       "</style>\n",
       "<table border=\"1\" class=\"dataframe\">\n",
       "  <thead>\n",
       "    <tr style=\"text-align: right;\">\n",
       "      <th></th>\n",
       "      <th>year</th>\n",
       "      <th>ISO_code</th>\n",
       "      <th>countries</th>\n",
       "      <th>region</th>\n",
       "      <th>pf_identity_legal</th>\n",
       "      <th>pf_identity_sex_male</th>\n",
       "      <th>pf_identity_sex_female</th>\n",
       "      <th>pf_identity_sex</th>\n",
       "      <th>pf_identity_divorce</th>\n",
       "      <th>pf_identity</th>\n",
       "      <th>pf_score</th>\n",
       "      <th>pf_rank</th>\n",
       "      <th>ef_score</th>\n",
       "      <th>ef_rank</th>\n",
       "      <th>hf_score</th>\n",
       "      <th>hf_rank</th>\n",
       "    </tr>\n",
       "  </thead>\n",
       "  <tbody>\n",
       "    <tr>\n",
       "      <th>0</th>\n",
       "      <td>2017</td>\n",
       "      <td>ALB</td>\n",
       "      <td>Albania</td>\n",
       "      <td>Eastern Europe</td>\n",
       "      <td>0.0</td>\n",
       "      <td>10.0</td>\n",
       "      <td>10.0</td>\n",
       "      <td>10.0</td>\n",
       "      <td>7.5</td>\n",
       "      <td>5.8</td>\n",
       "      <td>8.01</td>\n",
       "      <td>46.0</td>\n",
       "      <td>7.67</td>\n",
       "      <td>30.0</td>\n",
       "      <td>7.84</td>\n",
       "      <td>38.0</td>\n",
       "    </tr>\n",
       "    <tr>\n",
       "      <th>1</th>\n",
       "      <td>2017</td>\n",
       "      <td>DZA</td>\n",
       "      <td>Algeria</td>\n",
       "      <td>Middle East &amp; North Africa</td>\n",
       "      <td>NaN</td>\n",
       "      <td>0.0</td>\n",
       "      <td>0.0</td>\n",
       "      <td>0.0</td>\n",
       "      <td>0.0</td>\n",
       "      <td>0.0</td>\n",
       "      <td>5.20</td>\n",
       "      <td>146.0</td>\n",
       "      <td>4.77</td>\n",
       "      <td>159.0</td>\n",
       "      <td>4.99</td>\n",
       "      <td>155.0</td>\n",
       "    </tr>\n",
       "    <tr>\n",
       "      <th>2</th>\n",
       "      <td>2017</td>\n",
       "      <td>AGO</td>\n",
       "      <td>Angola</td>\n",
       "      <td>Sub-Saharan Africa</td>\n",
       "      <td>10.0</td>\n",
       "      <td>0.0</td>\n",
       "      <td>0.0</td>\n",
       "      <td>0.0</td>\n",
       "      <td>5.0</td>\n",
       "      <td>5.0</td>\n",
       "      <td>5.98</td>\n",
       "      <td>121.0</td>\n",
       "      <td>4.83</td>\n",
       "      <td>158.0</td>\n",
       "      <td>5.40</td>\n",
       "      <td>151.0</td>\n",
       "    </tr>\n",
       "    <tr>\n",
       "      <th>3</th>\n",
       "      <td>2017</td>\n",
       "      <td>ARG</td>\n",
       "      <td>Argentina</td>\n",
       "      <td>Latin America &amp; the Caribbean</td>\n",
       "      <td>10.0</td>\n",
       "      <td>10.0</td>\n",
       "      <td>10.0</td>\n",
       "      <td>10.0</td>\n",
       "      <td>10.0</td>\n",
       "      <td>10.0</td>\n",
       "      <td>8.04</td>\n",
       "      <td>41.0</td>\n",
       "      <td>5.67</td>\n",
       "      <td>147.0</td>\n",
       "      <td>6.86</td>\n",
       "      <td>77.0</td>\n",
       "    </tr>\n",
       "    <tr>\n",
       "      <th>4</th>\n",
       "      <td>2017</td>\n",
       "      <td>ARM</td>\n",
       "      <td>Armenia</td>\n",
       "      <td>Caucasus &amp; Central Asia</td>\n",
       "      <td>7.0</td>\n",
       "      <td>10.0</td>\n",
       "      <td>10.0</td>\n",
       "      <td>10.0</td>\n",
       "      <td>7.5</td>\n",
       "      <td>8.2</td>\n",
       "      <td>7.15</td>\n",
       "      <td>72.0</td>\n",
       "      <td>7.70</td>\n",
       "      <td>27.0</td>\n",
       "      <td>7.42</td>\n",
       "      <td>54.0</td>\n",
       "    </tr>\n",
       "    <tr>\n",
       "      <th>...</th>\n",
       "      <td>...</td>\n",
       "      <td>...</td>\n",
       "      <td>...</td>\n",
       "      <td>...</td>\n",
       "      <td>...</td>\n",
       "      <td>...</td>\n",
       "      <td>...</td>\n",
       "      <td>...</td>\n",
       "      <td>...</td>\n",
       "      <td>...</td>\n",
       "      <td>...</td>\n",
       "      <td>...</td>\n",
       "      <td>...</td>\n",
       "      <td>...</td>\n",
       "      <td>...</td>\n",
       "      <td>...</td>\n",
       "    </tr>\n",
       "    <tr>\n",
       "      <th>1615</th>\n",
       "      <td>2008</td>\n",
       "      <td>AUS</td>\n",
       "      <td>Australia</td>\n",
       "      <td>Oceania</td>\n",
       "      <td>NaN</td>\n",
       "      <td>10.0</td>\n",
       "      <td>10.0</td>\n",
       "      <td>10.0</td>\n",
       "      <td>10.0</td>\n",
       "      <td>10.0</td>\n",
       "      <td>9.29</td>\n",
       "      <td>7.0</td>\n",
       "      <td>8.18</td>\n",
       "      <td>6.0</td>\n",
       "      <td>8.73</td>\n",
       "      <td>4.0</td>\n",
       "    </tr>\n",
       "    <tr>\n",
       "      <th>1616</th>\n",
       "      <td>2008</td>\n",
       "      <td>DNK</td>\n",
       "      <td>Denmark</td>\n",
       "      <td>Western Europe</td>\n",
       "      <td>NaN</td>\n",
       "      <td>10.0</td>\n",
       "      <td>10.0</td>\n",
       "      <td>10.0</td>\n",
       "      <td>10.0</td>\n",
       "      <td>10.0</td>\n",
       "      <td>9.49</td>\n",
       "      <td>3.0</td>\n",
       "      <td>7.98</td>\n",
       "      <td>9.0</td>\n",
       "      <td>8.73</td>\n",
       "      <td>4.0</td>\n",
       "    </tr>\n",
       "    <tr>\n",
       "      <th>1617</th>\n",
       "      <td>2008</td>\n",
       "      <td>CHE</td>\n",
       "      <td>Switzerland</td>\n",
       "      <td>Western Europe</td>\n",
       "      <td>NaN</td>\n",
       "      <td>10.0</td>\n",
       "      <td>10.0</td>\n",
       "      <td>10.0</td>\n",
       "      <td>10.0</td>\n",
       "      <td>10.0</td>\n",
       "      <td>9.31</td>\n",
       "      <td>6.0</td>\n",
       "      <td>8.35</td>\n",
       "      <td>4.0</td>\n",
       "      <td>8.83</td>\n",
       "      <td>3.0</td>\n",
       "    </tr>\n",
       "    <tr>\n",
       "      <th>1618</th>\n",
       "      <td>2008</td>\n",
       "      <td>NZL</td>\n",
       "      <td>New Zealand</td>\n",
       "      <td>Oceania</td>\n",
       "      <td>NaN</td>\n",
       "      <td>10.0</td>\n",
       "      <td>10.0</td>\n",
       "      <td>10.0</td>\n",
       "      <td>10.0</td>\n",
       "      <td>10.0</td>\n",
       "      <td>9.42</td>\n",
       "      <td>4.0</td>\n",
       "      <td>8.46</td>\n",
       "      <td>3.0</td>\n",
       "      <td>8.94</td>\n",
       "      <td>2.0</td>\n",
       "    </tr>\n",
       "    <tr>\n",
       "      <th>1619</th>\n",
       "      <td>2008</td>\n",
       "      <td>HKG</td>\n",
       "      <td>Hong Kong</td>\n",
       "      <td>East Asia</td>\n",
       "      <td>NaN</td>\n",
       "      <td>10.0</td>\n",
       "      <td>10.0</td>\n",
       "      <td>10.0</td>\n",
       "      <td>10.0</td>\n",
       "      <td>10.0</td>\n",
       "      <td>9.13</td>\n",
       "      <td>12.0</td>\n",
       "      <td>9.11</td>\n",
       "      <td>1.0</td>\n",
       "      <td>9.12</td>\n",
       "      <td>1.0</td>\n",
       "    </tr>\n",
       "  </tbody>\n",
       "</table>\n",
       "<p>1620 rows × 16 columns</p>\n",
       "</div>"
      ],
      "text/plain": [
       "      year ISO_code    countries                         region  \\\n",
       "0     2017      ALB      Albania                 Eastern Europe   \n",
       "1     2017      DZA      Algeria     Middle East & North Africa   \n",
       "2     2017      AGO       Angola             Sub-Saharan Africa   \n",
       "3     2017      ARG    Argentina  Latin America & the Caribbean   \n",
       "4     2017      ARM      Armenia        Caucasus & Central Asia   \n",
       "...    ...      ...          ...                            ...   \n",
       "1615  2008      AUS    Australia                        Oceania   \n",
       "1616  2008      DNK      Denmark                 Western Europe   \n",
       "1617  2008      CHE  Switzerland                 Western Europe   \n",
       "1618  2008      NZL  New Zealand                        Oceania   \n",
       "1619  2008      HKG    Hong Kong                      East Asia   \n",
       "\n",
       "      pf_identity_legal  pf_identity_sex_male  pf_identity_sex_female  \\\n",
       "0                   0.0                  10.0                    10.0   \n",
       "1                   NaN                   0.0                     0.0   \n",
       "2                  10.0                   0.0                     0.0   \n",
       "3                  10.0                  10.0                    10.0   \n",
       "4                   7.0                  10.0                    10.0   \n",
       "...                 ...                   ...                     ...   \n",
       "1615                NaN                  10.0                    10.0   \n",
       "1616                NaN                  10.0                    10.0   \n",
       "1617                NaN                  10.0                    10.0   \n",
       "1618                NaN                  10.0                    10.0   \n",
       "1619                NaN                  10.0                    10.0   \n",
       "\n",
       "      pf_identity_sex  pf_identity_divorce  pf_identity  pf_score  pf_rank  \\\n",
       "0                10.0                  7.5          5.8      8.01     46.0   \n",
       "1                 0.0                  0.0          0.0      5.20    146.0   \n",
       "2                 0.0                  5.0          5.0      5.98    121.0   \n",
       "3                10.0                 10.0         10.0      8.04     41.0   \n",
       "4                10.0                  7.5          8.2      7.15     72.0   \n",
       "...               ...                  ...          ...       ...      ...   \n",
       "1615             10.0                 10.0         10.0      9.29      7.0   \n",
       "1616             10.0                 10.0         10.0      9.49      3.0   \n",
       "1617             10.0                 10.0         10.0      9.31      6.0   \n",
       "1618             10.0                 10.0         10.0      9.42      4.0   \n",
       "1619             10.0                 10.0         10.0      9.13     12.0   \n",
       "\n",
       "      ef_score  ef_rank  hf_score  hf_rank  \n",
       "0         7.67     30.0      7.84     38.0  \n",
       "1         4.77    159.0      4.99    155.0  \n",
       "2         4.83    158.0      5.40    151.0  \n",
       "3         5.67    147.0      6.86     77.0  \n",
       "4         7.70     27.0      7.42     54.0  \n",
       "...        ...      ...       ...      ...  \n",
       "1615      8.18      6.0      8.73      4.0  \n",
       "1616      7.98      9.0      8.73      4.0  \n",
       "1617      8.35      4.0      8.83      3.0  \n",
       "1618      8.46      3.0      8.94      2.0  \n",
       "1619      9.11      1.0      9.12      1.0  \n",
       "\n",
       "[1620 rows x 16 columns]"
      ]
     },
     "execution_count": 8,
     "metadata": {},
     "output_type": "execute_result"
    }
   ],
   "source": [
    "dataset = dataset[important_cols].replace('-', numpy.nan)\n",
    "for score_col in score_cols:\n",
    "  dataset[score_col] = pandas.to_numeric(dataset[score_col])\n",
    "dataset"
   ]
  },
  {
   "cell_type": "markdown",
   "metadata": {
    "colab_type": "text",
    "id": "jD3nFLfXSgp7"
   },
   "source": [
    "# Parte 1\n",
    "\n",
    "Luego de las clases del primer fin de semana, ya tenemos las herramientas para responder las siguientes preguntas:"
   ]
  },
  {
   "cell_type": "markdown",
   "metadata": {
    "colab_type": "text",
    "id": "DHwEp61uFZCl"
   },
   "source": [
    "## 1. Estadísticos descriptivos\n",
    "\n",
    "  1. Para comenzar con un pantallazo de los datos, calcular el rango de las variables.\n",
    "  3. Para cada país, tenemos varias realizaciones para cada variable *pf_identity* y *hf_score*. Si queremos comparar un país con otro, ¿cuál es la manera adecuada de hacerlo? Por ejemplo, ¿nos quedamos con un único valor? ¿o comparamos todos los valores? ¿usamos el promedio? ¿usamos la mediana? \n",
    "  2. Obtener media, mediana y desviación estándar de las variables *pf_identity* y *hf_score* en el mundo y compararla con la de Latinoamérica y el caribe. Usar la respuesta del punto anterior para justificar si la comparación es válida o no.\n",
    "  3. ¿Tiene sentido calcular la moda?\n",
    "  4. ¿Cómo pueden sanearse los valores faltantes?\n",
    "  5. ¿Encuentra outliers en estas dos variables? ¿Qué método utiliza para detectarlos? Los outliers, ¿son globales o por grupo? ¿Los eliminaría del conjunto de datos?\n",
    "  \n",
    "  "
   ]
  },
  {
   "cell_type": "code",
   "execution_count": 9,
   "metadata": {},
   "outputs": [],
   "source": [
    "seaborn.set(font_scale=1.5)  # Para cambiar tamaño de labels en los gráficos"
   ]
  },
  {
   "cell_type": "markdown",
   "metadata": {},
   "source": [
    "#### 1.1. Rango de las variables\n",
    "Para las variables numéricas que son indicadores (excluimos el año), tomamos el valor máximo y el valor mínimo para cada una de ellas y luego calculamos la diferencia, que nos da el rango de cada variable."
   ]
  },
  {
   "cell_type": "code",
   "execution_count": 10,
   "metadata": {},
   "outputs": [
    {
     "name": "stdout",
     "output_type": "stream",
     "text": [
      "Los rangos de las variables analizadas son:\n",
      "'pf_identity_legal': 10.0\n",
      "'pf_identity_sex_male': 10.0\n",
      "'pf_identity_sex_female': 10.0\n",
      "'pf_identity_sex': 10.0\n",
      "'pf_identity_divorce': 10.0\n",
      "'pf_identity': 10.0\n",
      "'pf_score': 7.34\n",
      "'pf_rank': 161.0\n",
      "'ef_score': 6.53\n",
      "'ef_rank': 161.0\n",
      "'hf_score': 5.43\n",
      "'hf_rank': 161.0\n"
     ]
    }
   ],
   "source": [
    "print(\"Los rangos de las variables analizadas son:\")\n",
    "for score_col in score_cols:\n",
    "    df_score_col = dataset[score_col]\n",
    "    var_min = df_score_col.min()\n",
    "    var_max = df_score_col.max()\n",
    "    var_range = (var_max - var_min).round(4)\n",
    "    print(f\"'{score_col}': {var_range}\")"
   ]
  },
  {
   "cell_type": "markdown",
   "metadata": {},
   "source": [
    "#### 1.2. Formas de comparar un país con otro\n",
    "Entendemos que existen diversas formas de comparar dos países respecto a su desempeño en 'pf_identity' y 'hf_score':\n",
    "1. Analizar gráficamente la evolución de cada país a lo largo de toda la serie temporal, para cada variable. Así podríamos identificar la tendencia de cada uno, así como comparar cómo se desempeñaba cada país al comienzo, durante y al final de la serie.\n",
    "2. Calcular un estimador que pondere la media de cada país en toda la serie y la tendencia.\n",
    "3. Analizar gráficamente la media móvil de cada país a lo largo de toda la serie temporal, para cada variable.\n",
    "4. Tomar el valor puntual de cada variable en el último año para cada país.\n",
    "5. Tomar la media de los últimos n años para cada país."
   ]
  },
  {
   "cell_type": "markdown",
   "metadata": {},
   "source": [
    "##### 1.2.1. Análisis gráfico de la evolución de las variables en el tiempo\n",
    "<font color='red'>**TODO: DESCRIBIR LO QUE SE VE EN EL GRÁFICO**<font>"
   ]
  },
  {
   "cell_type": "code",
   "execution_count": 11,
   "metadata": {},
   "outputs": [
    {
     "data": {
      "image/png": "[encoded data removed]",
      "text/plain": [
       "<Figure size 1152x432 with 2 Axes>"
      ]
     },
     "metadata": {},
     "output_type": "display_data"
    }
   ],
   "source": [
    "countries = ['Argentina', 'Peru']\n",
    "sel_countries_filter = dataset['countries'].isin(countries)\n",
    "df_sel_countries = dataset[sel_countries_filter]\n",
    "\n",
    "fig, axs = plt.subplots(ncols=2, figsize=(16, 6))  # para plotear un gráfico al lado del otro\n",
    "seaborn.lineplot(data=df_sel_countries, x='year', y='pf_identity', hue='countries', ax=axs[0])\n",
    "seaborn.lineplot(data=df_sel_countries, x='year', y='hf_score', hue='countries', ax=axs[1])\n",
    "for ax in axs:\n",
    "    ax.set_ylim(0, 11)  # eje y no puede ser menor a 0 ni mayor a 10"
   ]
  },
  {
   "cell_type": "code",
   "execution_count": 12,
   "metadata": {},
   "outputs": [
    {
     "ename": "SyntaxError",
     "evalue": "invalid syntax (<ipython-input-12-9f454e0a5613>, line 1)",
     "output_type": "error",
     "traceback": [
      "\u001b[1;36m  File \u001b[1;32m\"<ipython-input-12-9f454e0a5613>\"\u001b[1;36m, line \u001b[1;32m1\u001b[0m\n\u001b[1;33m    Analizando la variable 'pf_identity' podemos ver que en la Argentina, sus habitantes se sienten libres en lo que respecta a su identidad.\u001b[0m\n\u001b[1;37m                ^\u001b[0m\n\u001b[1;31mSyntaxError\u001b[0m\u001b[1;31m:\u001b[0m invalid syntax\n"
     ]
    }
   ],
   "source": [
    "Analizando la variable 'pf_identity' podemos ver que en la Argentina, sus habitantes se sienten libres en lo que respecta a su identidad.\n",
    "Su valor se ha mantenido estable y en lo más alto en los últimos 10 años.\n",
    "Interpretamos que Perú ha vivido una transición en el año 2010, lo que ha hecho que sus habitantes se sientan más libres. A partir del año 2016,\n",
    "se puede ver nuevamente una tendencia a dismunuir la libertad de indentidad en este país, un retroceso para sus habitantes.\n",
    "Sin embargo, en un análisis global 'hf_score' refleja que los habitantes de Perú viven más libres que los habitantes argentinos. Recordemos que\n",
    "esta métrica tiene en cuenta otros factores más además de la libertad de identitdad de las personas, como por ejemplo el ámbito económico.\n",
    "Por lo tanto, no es equivocado decir que Perú ha tenido una economía más estable en los últimos años que la Argentina, en la cual sus habitantes\n",
    "se sienten más comodos."
   ]
  },
  {
   "cell_type": "markdown",
   "metadata": {},
   "source": [
    "##### 1.2.2. Estimador\n",
    "<font color='red'>**TODO: CALCULAR**<font>"
   ]
  },
  {
   "cell_type": "code",
   "execution_count": null,
   "metadata": {},
   "outputs": [],
   "source": []
  },
  {
   "cell_type": "markdown",
   "metadata": {},
   "source": [
    "##### 1.2.3. Analizar gráficamente media móvil\n",
    "<font color='red'>**TODO: DESCRIBIR LO QUE SE VE EN EL GRÁFICO**<font>"
   ]
  },
  {
   "cell_type": "code",
   "execution_count": null,
   "metadata": {},
   "outputs": [],
   "source": [
    "df_sel_countries = df_sel_countries.sort_values(by=['countries', 'year'])  # ordeno para que la media móvil se calcule correctamente\n",
    "df_sel_countries_rolling_mean = df_sel_countries.copy().groupby(['countries']).rolling(window=3, min_periods=1, on='year').mean()  # Media móvil por país tomando los últimos 3 años\n",
    "df_sel_countries_rolling_mean = df_sel_countries_rolling_mean.reset_index()\n",
    "\n",
    "fig, axs = plt.subplots(ncols=2, figsize=(16, 6))  # para plotear un gráfico al lado del otro\n",
    "seaborn.lineplot(data=df_sel_countries_rolling_mean, x='year', y='pf_identity', hue='countries', ax=axs[0])\n",
    "seaborn.lineplot(data=df_sel_countries_rolling_mean, x='year', y='hf_score', hue='countries', ax=axs[1])\n",
    "for ax in axs:\n",
    "    ax.set_ylim(0, 11)  # eje y no puede ser menor a 0 ni mayor a 10"
   ]
  },
  {
   "cell_type": "markdown",
   "metadata": {},
   "source": [
    "##### 1.2.4. Tomar valor puntual del último año\n",
    "<font color='red'>**TODO: CALCULAR**<font>"
   ]
  },
  {
   "cell_type": "code",
   "execution_count": null,
   "metadata": {},
   "outputs": [],
   "source": []
  },
  {
   "cell_type": "markdown",
   "metadata": {},
   "source": [
    "##### 1.2.5. Tomar la media de los últimos n años\n",
    "<font color='red'>**TODO: CALCULAR**<font>"
   ]
  },
  {
   "cell_type": "code",
   "execution_count": null,
   "metadata": {},
   "outputs": [],
   "source": []
  },
  {
   "cell_type": "markdown",
   "metadata": {},
   "source": [
    "#### 1.3 Cálculo de media, mediana y desviación estándar de las variables *pf_identity* y *hf_score* en el mundo. Comparación con la de Latinoamérica y el caribe\n",
    "Realizamos el cálculo de las medidas estadísticas a continuación. A partir de ellos, concluimos que no tiene mucho sentido tomar una medida como la media, dado que al hacerlo de esa forma se pierde información sobre, por ejemplo, cómo viene evolucionando el indicador en el tiempo, además que valores extremos pueden estar distorsionando la media."
   ]
  },
  {
   "cell_type": "code",
   "execution_count": null,
   "metadata": {},
   "outputs": [],
   "source": [
    "selected_scores = ['pf_identity', 'hf_score']\n",
    "la_filter = dataset['region'] == 'Latin America & the Caribbean'\n",
    "dataset_la = dataset[la_filter]\n",
    "\n",
    "for score in selected_scores:\n",
    "    df_score_world = dataset[score]\n",
    "    df_score_la = dataset_la[score]\n",
    "    # Mean\n",
    "    mean_world = df_score_world.mean()\n",
    "    mean_la = df_score_la.mean()\n",
    "    # Median\n",
    "    median_world = df_score_world.median()\n",
    "    median_la = df_score_la.median()\n",
    "    # Standard deviation\n",
    "    std_world = df_score_world.std()\n",
    "    std_la = df_score_la.std()\n",
    "    \n",
    "    print(f\"Respecto a la variable '{score}', los valores del mundo respecto a LA son:\")\n",
    "    print(f\"Media del mundo: {mean_world.round(3)}; Media de LA: {mean_la.round(3)}\")\n",
    "    print(f\"Mediana del mundo: {median_world.round(3)}; Mediana de LA: {median_la.round(3)}\")\n",
    "    print(f\"Desviación estándar del mundo: {std_world.round(3)}; Desviación estándar de LA: {std_la.round(3)}\\n\")"
   ]
  },
  {
   "cell_type": "markdown",
   "metadata": {},
   "source": [
    "#### 1.4 Cálculo de moda: ¿tiene sentido?\n",
    "No tendría sentido tomar la moda debido a que tenemos pocos valores por cada país (máximo 10) y es probable que no haya moda dado que los indicadores son variables de tipo continuas, por lo que cada año puede haber valores distintos."
   ]
  },
  {
   "cell_type": "code",
   "execution_count": null,
   "metadata": {},
   "outputs": [],
   "source": [
    "for score in selected_scores:\n",
    "    df_score_world = dataset[score]\n",
    "    df_score_la = dataset_la[score]\n",
    "    # Mode\n",
    "    mode_world = df_score_world.mode()\n",
    "    mode_la = df_score_la.mode()\n",
    "    \n",
    "    print(f\"Respecto a la variable '{score}', los valores del mundo respecto a LA son:\")\n",
    "    print(f\"Moda del mundo: {mode_world}; Media de LA: {mode_la}\\n\")\n"
   ]
  },
  {
   "cell_type": "markdown",
   "metadata": {},
   "source": [
    "#### 1.5 ¿Cómo sanear los valores faltantes?\n",
    "Una de las formas sería llenar los vacíos con la media del propio país o de la región o de países similares. También se podría tomar un promedio de años anteriores para interpolarlos."
   ]
  },
  {
   "cell_type": "code",
   "execution_count": null,
   "metadata": {},
   "outputs": [],
   "source": [
    "print(\"Cantidad de valores faltantes por columna:\\n\")\n",
    "dataset.isna().sum()"
   ]
  },
  {
   "cell_type": "code",
   "execution_count": 13,
   "metadata": {},
   "outputs": [],
   "source": [
    "def calculate_measure_by_column(df, col, agg='mean'):\n",
    "    \"\"\"\n",
    "    Performs aggregation over col and fills NaN values of df with the result.\n",
    "    \"\"\"\n",
    "    \n",
    "    # Calculate measure by column\n",
    "    df_by_col_and_year = df.copy()\n",
    "    df_by_col_and_year = df_by_col_and_year.set_index([col, 'year'])[score_cols]\n",
    "    df_measure_by_col = df_by_col_and_year.groupby([col]).agg(agg).reset_index()\n",
    "    renamed_columns_dict = {col: col + '_measure' for col in score_cols}\n",
    "    df_measure_by_col = df_measure_by_col.rename(columns=renamed_columns_dict)  # rename columns so that they are different than the ones in the original dataframe\n",
    "    # Join measure to dataframe\n",
    "    df_new = df.merge(df_measure_by_col, on=col, how='left')\n",
    "    for score in score_cols:\n",
    "        df_new[score] = numpy.where(df_new[score].isna(), df_new[score + '_measure'], df_new[score])\n",
    "    df_new = df_new.drop(columns=renamed_columns_dict.values())\n",
    "    return df_new"
   ]
  },
  {
   "cell_type": "code",
   "execution_count": 14,
   "metadata": {},
   "outputs": [
    {
     "name": "stdout",
     "output_type": "stream",
     "text": [
      "Cantidad de valores faltantes por columna luego de limpieza por país:\n",
      "\n"
     ]
    },
    {
     "data": {
      "text/plain": [
       "year                        0\n",
       "ISO_code                    0\n",
       "countries                   0\n",
       "region                      0\n",
       "pf_identity_legal         590\n",
       "pf_identity_sex_male        0\n",
       "pf_identity_sex_female      0\n",
       "pf_identity_sex             0\n",
       "pf_identity_divorce         0\n",
       "pf_identity                 0\n",
       "pf_score                    0\n",
       "pf_rank                     0\n",
       "ef_score                    0\n",
       "ef_rank                     0\n",
       "hf_score                    0\n",
       "hf_rank                     0\n",
       "dtype: int64"
      ]
     },
     "execution_count": 14,
     "metadata": {},
     "output_type": "execute_result"
    }
   ],
   "source": [
    "df_clean = calculate_measure_by_column(dataset, 'countries', agg='mean')\n",
    "\n",
    "print(\"Cantidad de valores faltantes por columna luego de limpieza por país:\\n\")\n",
    "df_clean.isnull().sum()"
   ]
  },
  {
   "cell_type": "markdown",
   "metadata": {},
   "source": [
    "Como aún quedan valores vacíos, calculamos la media por región y se completamos los NaN restantes"
   ]
  },
  {
   "cell_type": "code",
   "execution_count": 15,
   "metadata": {},
   "outputs": [
    {
     "name": "stdout",
     "output_type": "stream",
     "text": [
      "Cantidad de valores faltantes por columna luego de limpieza por país y región:\n",
      "\n"
     ]
    },
    {
     "data": {
      "text/plain": [
       "year                      0\n",
       "ISO_code                  0\n",
       "countries                 0\n",
       "region                    0\n",
       "pf_identity_legal         0\n",
       "pf_identity_sex_male      0\n",
       "pf_identity_sex_female    0\n",
       "pf_identity_sex           0\n",
       "pf_identity_divorce       0\n",
       "pf_identity               0\n",
       "pf_score                  0\n",
       "pf_rank                   0\n",
       "ef_score                  0\n",
       "ef_rank                   0\n",
       "hf_score                  0\n",
       "hf_rank                   0\n",
       "dtype: int64"
      ]
     },
     "execution_count": 15,
     "metadata": {},
     "output_type": "execute_result"
    }
   ],
   "source": [
    "df_clean = calculate_measure_by_column(df_clean, 'region', agg='mean')\n",
    "\n",
    "print(\"Cantidad de valores faltantes por columna luego de limpieza por país y región:\\n\")\n",
    "df_clean.isnull().sum()"
   ]
  },
  {
   "cell_type": "markdown",
   "metadata": {},
   "source": [
    "\n",
    "<font color='red'>**TODO: CALCULAR MEDIA DE ÚLTIMOS AÑOS Y RELLENAR CON ESO**<font>"
   ]
  },
  {
   "cell_type": "markdown",
   "metadata": {},
   "source": [
    "#### 1.6. Outliers\n",
    "Formas de detectarlos:\n",
    "1. Gráficamente: realizando un boxplot por región, es posible distinguir, para cada región, algunas observaciones que se ubican fuera del intervalo de confianza definido en el boxplot (los puntos fuera del rango de los \"bigotes\"). También podría buscarse outliers dentro de una región por país.\n",
    "2. Normalizando los valores por región, calculando la media y eligiendo una cantidad determinada de desviaciones estándar desde la media a partir de la cual consideramos que esos países son outliers."
   ]
  },
  {
   "cell_type": "markdown",
   "metadata": {},
   "source": [
    "##### 1.6.1. Detección de outliers de manera gráfica"
   ]
  },
  {
   "cell_type": "code",
   "execution_count": 16,
   "metadata": {},
   "outputs": [
    {
     "data": {
      "image/png": "[encoded data removed]",
      "text/plain": [
       "<Figure size 1296x432 with 2 Axes>"
      ]
     },
     "metadata": {},
     "output_type": "display_data"
    }
   ],
   "source": [
    "fig, axs = plt.subplots(ncols=2, figsize=(18, 6))  # para plotear un gráfico al lado del otro\n",
    "#plt.figure(figsize=(10,8))\n",
    "seaborn.boxplot(x=df_clean['region'], y=df_clean['pf_identity'], ax=axs[0])\n",
    "seaborn.boxplot(x=df_clean['region'], y=df_clean['hf_score'], ax=axs[1])\n",
    "for ax in axs:\n",
    "    ax.set_ylim(-1, 11)  # eje y no puede ser menor a 0 ni mayor a 10\n",
    "    ax.tick_params(axis='x', labelrotation=90, labelsize=13)\n",
    "seaborn.despine()"
   ]
  },
  {
   "cell_type": "markdown",
   "metadata": {},
   "source": [
    "<font color='red'>**TODO: **<font>Encontramos outliers analizando por grupo (a nivel de región).\n",
    "Si bien es posible encontrarlos gráficamente, también podríamos normalizar los datos\n",
    "y establecer una determinada cantidad de desviaciones estándar a partir de la cual marcaríamos a los puntos que se desvían significativamente de la media.\n",
    "COMPLETAR SI BORRAR OUTLIERS"
   ]
  },
  {
   "cell_type": "markdown",
   "metadata": {
    "colab_type": "text",
    "id": "kwzDqGtfFZCm"
   },
   "source": [
    "## 2. Agregación de datos\n",
    "\n",
    "1. Grafiquen la media de la variable *pf_identity* y *hf_score* a través de los años.\n",
    "2. Realicen los mismos gráficos, pero separando por regiones (Cada variable en un gráfico distinto, sino no se ve nada). ¿La tendencia observada, es la misma que si no dividimos por regiones?\n",
    "3. Si lo consideran necesario, grafiquen algunos países de Latinoamerica para tratar de explicar la tendencia de la variable *pf_identity* en la región. ¿Cómo seleccionarion los países relevantes a esa tendencia?\n",
    "\n",
    "Pista: hay gráficos de seaborn que permiten generar visualizaciones para cada valor de una variable categórica, en este caso, las distintas regiones.\n",
    "\n",
    "Sólo por curiosidad, graficar la tendencia de *hf_score* y *ef_score* a través de los años. ¿Tienen alguna hipótesis para este comportamiento?"
   ]
  },
  {
   "cell_type": "markdown",
   "metadata": {},
   "source": [
    "2.1"
   ]
  },
  {
   "cell_type": "code",
   "execution_count": 119,
   "metadata": {},
   "outputs": [
    {
     "data": {
      "image/png": "[encoded data removed]",
      "text/plain": [
       "<Figure size 1152x432 with 2 Axes>"
      ]
     },
     "metadata": {},
     "output_type": "display_data"
    }
   ],
   "source": [
    "mean_pf_identity = []\n",
    "mean_hf_score = []\n",
    "years = []\n",
    "min = dataset['year'].min()\n",
    "max = dataset['year'].max()\n",
    "selected_score = ['pf_identity', 'hf_score']\n",
    "for year in range(min, max, 1):\n",
    "    years.append(year)\n",
    "    year_filter = dataset['year'] == year\n",
    "    dataset_year = dataset[year_filter]\n",
    "    values = dataset_year[selected_score]\n",
    "    mean_pf_identity.append(values['pf_identity'].mean())\n",
    "    mean_hf_score.append(values['hf_score'].mean())\n",
    "\n",
    "df_pf_identity = pandas.DataFrame(mean_pf_identity, columns = ['mean_pf_identity'], index=years)\n",
    "df_hf_score = pandas.DataFrame(mean_hf_score, columns = ['mean_hf_score'], index=years)\n",
    "\n",
    "## GRAFICO\n",
    "\n",
    "fig, axs = plt.subplots(ncols=2, figsize=(16, 6))  # para plotear un gráfico al lado del otro\n",
    "seaborn.lineplot(data=df_pf_identity, x=years, y='mean_pf_identity', ax=axs[0])\n",
    "seaborn.lineplot(data=df_hf_score, x=years, y='mean_hf_score', ax=axs[1])\n",
    "for ax in axs:\n",
    "    ax.set_ylim(0, 11)  # eje y no puede ser menor a 0 ni mayor a 10"
   ]
  },
  {
   "cell_type": "markdown",
   "metadata": {},
   "source": [
    "Calcular media del mundo año a año"
   ]
  },
  {
   "cell_type": "markdown",
   "metadata": {},
   "source": [
    "2.2"
   ]
  },
  {
   "cell_type": "markdown",
   "metadata": {},
   "source": []
  },
  {
   "cell_type": "markdown",
   "metadata": {},
   "source": [
    "2.3"
   ]
  },
  {
   "cell_type": "markdown",
   "metadata": {},
   "source": [
    "Elegir criterio para elegir países relevantes: mayor población?"
   ]
  },
  {
   "cell_type": "markdown",
   "metadata": {
    "colab_type": "text",
    "id": "z7cBpSPrFZCn"
   },
   "source": [
    "## 3. Distribuciones\n",
    "  1. Graficar en un mismo histograma la distribución de la variable *pf_identity* en global, y en Latinoamérica y el caribe. Repetir para la variable *hf_score*. ¿Visualmente, a qué tipo de distribución corresponde cada variable? ¿Es correcto utilizar todos el conjunto de valores disponibles para esa region en estos gráficos?\n"
   ]
  },
  {
   "cell_type": "code",
   "execution_count": null,
   "metadata": {},
   "outputs": [],
   "source": []
  },
  {
   "cell_type": "markdown",
   "metadata": {
    "colab_type": "text",
    "id": "lEwQJIulFZCo"
   },
   "source": [
    "## 4. Correlaciones y Relaciones\n",
    "\n",
    "En este ejercicio queremos responder a las preguntas\n",
    "\n",
    "* Las libertades personales y económicas, ¿van siempre de la mano?\n",
    "* ¿Cómo se relacionan ambas con las libertades respectivas a las relaciones personales?\n",
    "\n",
    "Para ello, analizaremos las correlaciones entre las variables pf_identity, pf_score y ef_score. \n",
    "\n",
    "Como pf_indentity contribuye al cálculo de pf_score esperamos hallar algún grado de correlación. Lo contrario podría ocurrir con ef_score. \n",
    "\n",
    "1. ¿Qué conclusiones puede sacar de un gráfico pairplot de estas tres variables? ¿Es adecuado para los valores de pf_identity? ¿Por qué?\n",
    "2. Graficar la correlación (visual) entre pf_identity y pf_score; y entre pf_identity y ef_score. Analizar el resultado, ¿se pueden sacar conclusiones? Tengan en cuenta que como pf_identity es el resultado de un promedio, sólo toma algunos valores. Es, en la práctica, discreta, y eso afecta al tipo de gráfico que podemos usar.\n",
    "3. Convertir estas variables en categóricas, es decir, a partir de pf_indentity generar otra variable pf_identity_segment que tome los valores `high`, `medium` y `low`. Pueden hacerlo con una función escrita por ustedes, o usando alguna función de pandas como `pandas.cut` o `pandas.dcut`. Repetir para ef_score y pf_score. El criterio para decidir qué intervalos de valores corresponden a cada categoría tienen que decidirlo ustedes, pueden usar los estadísticos mediana y los cuartiles.\n",
    "4. Graficar la correlación (visual) entre estas tres variables categoricas usando gráficos de calor (heatmaps). Note: van a necesitar 3 gráficos distintos, porque en cada uno podemos incluir sólo 2 variables.\n",
    "\n"
   ]
  },
  {
   "cell_type": "code",
   "execution_count": null,
   "metadata": {},
   "outputs": [],
   "source": [
    "4.1"
   ]
  },
  {
   "cell_type": "code",
   "execution_count": null,
   "metadata": {},
   "outputs": [],
   "source": []
  },
  {
   "cell_type": "code",
   "execution_count": null,
   "metadata": {},
   "outputs": [],
   "source": [
    "4.2"
   ]
  },
  {
   "cell_type": "code",
   "execution_count": null,
   "metadata": {},
   "outputs": [],
   "source": []
  },
  {
   "cell_type": "code",
   "execution_count": null,
   "metadata": {},
   "outputs": [],
   "source": [
    "4.3"
   ]
  },
  {
   "cell_type": "code",
   "execution_count": null,
   "metadata": {},
   "outputs": [],
   "source": []
  },
  {
   "cell_type": "code",
   "execution_count": null,
   "metadata": {},
   "outputs": [],
   "source": [
    "4.4"
   ]
  },
  {
   "cell_type": "code",
   "execution_count": null,
   "metadata": {},
   "outputs": [],
   "source": []
  },
  {
   "cell_type": "markdown",
   "metadata": {
    "colab_type": "text",
    "id": "3uybvRrGSyA6"
   },
   "source": [
    "# Parte 2\n",
    "\n",
    "Luego del segundo fin de semana de clase, podemos revisitar nuestro trabajo anterior y completarlo respondiendo a las siguientes preguntas:"
   ]
  },
  {
   "cell_type": "markdown",
   "metadata": {
    "colab_type": "text",
    "id": "OF4LTznCS6SD"
   },
   "source": [
    "## 3. Distribuciones\n",
    "\n",
    "2. Realizar una prueba de Kolmogorov-Smirnof para comprobar analíticamente si estas variables responden la distribución propuesta en el ejercicio anterior. Hint: podés usar https://docs.scipy.org/doc/scipy-0.14.0/reference/generated/scipy.stats.kstest.html, pero hay que tener en cuenta que si la distribución es \"norm\", entonces va a comparar los datos con una distribución normal con media 0 y desviación estándar 1. Se puede utilizar la distribución sobre todos los datos o sólo sobre Latinoamérica."
   ]
  },
  {
   "cell_type": "markdown",
   "metadata": {
    "colab_type": "text",
    "id": "WWmCi_wRTYAB"
   },
   "source": [
    "## 4. Correlaciones\n",
    "\n",
    "3. Calcular algún coeficiente de correlación adecuado entre los dos pares de variables, dependiendo de la cantidad de datos, el tipo de datos y la distribución de los mismo. Algunas opciones son: coeficiente de pearson, coeficiente de spearman, coeficientes de tau y de kendall. Interpretar los resultados y justificar si las variables están correlacionadas o no. \n",
    "4. [Opcional] Analizar la correlación entre la region y el pf_score (y/o el ef_score); y entre la region y el pf_identity. Considerar que como la variable *region* es ordinal, debe utilizarse algún tipo de test. Explicar cuáles son los requisitos necesarios para la aplicación de ese test. (Si no se cumplieran, se pueden agregar algunos datos para generar más registros). Genere nuevas variables categóricas ordinales para calcular la correlación Tau de Kendal y genere una tabla de contingencia con esas nuevas variables."
   ]
  },
  {
   "cell_type": "markdown",
   "metadata": {
    "colab_type": "text",
    "id": "WqoHOee9UC7n"
   },
   "source": [
    "Además de completar estos puntos faltantes, luego de haber visitado los conceptos de percepción visual y comunicación efectiva, están en condiciones de reveer los gráficos realizados y evaluar si pueden ser mejorados. Para ello, puede hacerse las siguientes preguntas:\n",
    "\n",
    "* ¿Están utilizando el tipo de gráfico adecuado para cada tipo de variable?\n",
    "* Los gráficos, ¿son legibles?\n",
    "* Los gráficos generados, ¿responden a las preguntas mostrando un patrón claro? En caso de que no, ¿podemos filtrar los datos para que el patrón sea más evidente? ¿o agruparlos de manera distinta? ¿o cambiar el tipo de gráfico?"
   ]
  },
  {
   "cell_type": "code",
   "execution_count": null,
   "metadata": {
    "colab": {},
    "colab_type": "code",
    "id": "D6KDiX_FFZCp"
   },
   "outputs": [],
   "source": []
  }
 ],
 "metadata": {
  "colab": {
   "name": "practico1.ipynb",
   "provenance": []
  },
  "kernelspec": {
   "display_name": "Python [conda env:diplodatos-ayvd]",
   "language": "python",
   "name": "conda-env-diplodatos-ayvd-py"
  },
  "language_info": {
   "codemirror_mode": {
    "name": "ipython",
    "version": 3
   },
   "file_extension": ".py",
   "mimetype": "text/x-python",
   "name": "python",
   "nbconvert_exporter": "python",
   "pygments_lexer": "ipython3",
   "version": "3.6.10"
  }
 },
 "nbformat": 4,
 "nbformat_minor": 4
}
